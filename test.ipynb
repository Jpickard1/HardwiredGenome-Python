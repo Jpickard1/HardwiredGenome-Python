{
 "cells": [
  {
   "cell_type": "code",
   "execution_count": 1,
   "id": "62cd4ff2-c81b-42b2-814d-c4fd2016d9af",
   "metadata": {},
   "outputs": [],
   "source": [
    "from HWG import build\n",
    "import pandas as pd\n",
    "import os\n",
    "import numpy as np"
   ]
  },
  {
   "cell_type": "code",
   "execution_count": 2,
   "id": "42252eaf-3e93-41dc-a002-ba7bb6def776",
   "metadata": {},
   "outputs": [
    {
     "data": {
      "text/html": [
       "<div>\n",
       "<style scoped>\n",
       "    .dataframe tbody tr th:only-of-type {\n",
       "        vertical-align: middle;\n",
       "    }\n",
       "\n",
       "    .dataframe tbody tr th {\n",
       "        vertical-align: top;\n",
       "    }\n",
       "\n",
       "    .dataframe thead th {\n",
       "        text-align: right;\n",
       "    }\n",
       "</style>\n",
       "<table border=\"1\" class=\"dataframe\">\n",
       "  <thead>\n",
       "    <tr style=\"text-align: right;\">\n",
       "      <th></th>\n",
       "      <th>Gene 1</th>\n",
       "      <th>Gene 2</th>\n",
       "    </tr>\n",
       "  </thead>\n",
       "  <tbody>\n",
       "    <tr>\n",
       "      <th>0</th>\n",
       "      <td>ENSG00000000005</td>\n",
       "      <td>ENSG00000061656</td>\n",
       "    </tr>\n",
       "    <tr>\n",
       "      <th>1</th>\n",
       "      <td>ENSG00000000005</td>\n",
       "      <td>ENSG00000099968</td>\n",
       "    </tr>\n",
       "    <tr>\n",
       "      <th>2</th>\n",
       "      <td>ENSG00000000005</td>\n",
       "      <td>ENSG00000104765</td>\n",
       "    </tr>\n",
       "    <tr>\n",
       "      <th>3</th>\n",
       "      <td>ENSG00000000005</td>\n",
       "      <td>ENSG00000105383</td>\n",
       "    </tr>\n",
       "    <tr>\n",
       "      <th>4</th>\n",
       "      <td>ENSG00000000005</td>\n",
       "      <td>ENSG00000114455</td>\n",
       "    </tr>\n",
       "    <tr>\n",
       "      <th>...</th>\n",
       "      <td>...</td>\n",
       "      <td>...</td>\n",
       "    </tr>\n",
       "    <tr>\n",
       "      <th>64001</th>\n",
       "      <td>ENSG00000275774</td>\n",
       "      <td>ENSG00000275774</td>\n",
       "    </tr>\n",
       "    <tr>\n",
       "      <th>64002</th>\n",
       "      <td>ENSG00000276070</td>\n",
       "      <td>ENSG00000278619</td>\n",
       "    </tr>\n",
       "    <tr>\n",
       "      <th>64003</th>\n",
       "      <td>ENSG00000276076</td>\n",
       "      <td>ENSG00000276076</td>\n",
       "    </tr>\n",
       "    <tr>\n",
       "      <th>64004</th>\n",
       "      <td>ENSG00000276644</td>\n",
       "      <td>ENSG00000276644</td>\n",
       "    </tr>\n",
       "    <tr>\n",
       "      <th>64005</th>\n",
       "      <td>ENSG00000280987</td>\n",
       "      <td>ENSG00000280987</td>\n",
       "    </tr>\n",
       "  </tbody>\n",
       "</table>\n",
       "<p>64006 rows × 2 columns</p>\n",
       "</div>"
      ],
      "text/plain": [
       "                Gene 1           Gene 2\n",
       "0      ENSG00000000005  ENSG00000061656\n",
       "1      ENSG00000000005  ENSG00000099968\n",
       "2      ENSG00000000005  ENSG00000104765\n",
       "3      ENSG00000000005  ENSG00000105383\n",
       "4      ENSG00000000005  ENSG00000114455\n",
       "...                ...              ...\n",
       "64001  ENSG00000275774  ENSG00000275774\n",
       "64002  ENSG00000276070  ENSG00000278619\n",
       "64003  ENSG00000276076  ENSG00000276076\n",
       "64004  ENSG00000276644  ENSG00000276644\n",
       "64005  ENSG00000280987  ENSG00000280987\n",
       "\n",
       "[64006 rows x 2 columns]"
      ]
     },
     "execution_count": 2,
     "metadata": {},
     "output_type": "execute_result"
    }
   ],
   "source": [
    "Alist = build.list_HuRI()\n",
    "Alist"
   ]
  },
  {
   "cell_type": "code",
   "execution_count": 5,
   "id": "3168bf89-8e3e-49bd-a2c3-eb991574ef3c",
   "metadata": {},
   "outputs": [
    {
     "name": "stdout",
     "output_type": "stream",
     "text": [
      "Accessing STRING data\n",
      "    Reading data from file...\n",
      "    File read complete\n",
      "    98.07% of the data was removed because it is below the confidence threshold.\n",
      "    2.12% of the data was removed because it wasn't mapped to a stable gene ID.\n",
      "STRING Data Access Complete: 1.89% of the data was used.\n"
     ]
    },
    {
     "data": {
      "text/html": [
       "<div>\n",
       "<style scoped>\n",
       "    .dataframe tbody tr th:only-of-type {\n",
       "        vertical-align: middle;\n",
       "    }\n",
       "\n",
       "    .dataframe tbody tr th {\n",
       "        vertical-align: top;\n",
       "    }\n",
       "\n",
       "    .dataframe thead th {\n",
       "        text-align: right;\n",
       "    }\n",
       "</style>\n",
       "<table border=\"1\" class=\"dataframe\">\n",
       "  <thead>\n",
       "    <tr style=\"text-align: right;\">\n",
       "      <th></th>\n",
       "      <th>Gene 1</th>\n",
       "      <th>Gene 2</th>\n",
       "    </tr>\n",
       "  </thead>\n",
       "  <tbody>\n",
       "    <tr>\n",
       "      <th>0</th>\n",
       "      <td>ENSG00000004059</td>\n",
       "      <td>ENSG00000143761</td>\n",
       "    </tr>\n",
       "    <tr>\n",
       "      <th>1</th>\n",
       "      <td>ENSG00000004059</td>\n",
       "      <td>ENSG00000120370</td>\n",
       "    </tr>\n",
       "    <tr>\n",
       "      <th>2</th>\n",
       "      <td>ENSG00000004059</td>\n",
       "      <td>ENSG00000157869</td>\n",
       "    </tr>\n",
       "    <tr>\n",
       "      <th>3</th>\n",
       "      <td>ENSG00000004059</td>\n",
       "      <td>ENSG00000134287</td>\n",
       "    </tr>\n",
       "    <tr>\n",
       "      <th>4</th>\n",
       "      <td>ENSG00000004059</td>\n",
       "      <td>ENSG00000107862</td>\n",
       "    </tr>\n",
       "    <tr>\n",
       "      <th>...</th>\n",
       "      <td>...</td>\n",
       "      <td>...</td>\n",
       "    </tr>\n",
       "    <tr>\n",
       "      <th>225635</th>\n",
       "      <td>ENSG00000100129</td>\n",
       "      <td>ENSG00000149100</td>\n",
       "    </tr>\n",
       "    <tr>\n",
       "      <th>225636</th>\n",
       "      <td>ENSG00000100129</td>\n",
       "      <td>ENSG00000178982</td>\n",
       "    </tr>\n",
       "    <tr>\n",
       "      <th>225637</th>\n",
       "      <td>ENSG00000100129</td>\n",
       "      <td>ENSG00000114867</td>\n",
       "    </tr>\n",
       "    <tr>\n",
       "      <th>225638</th>\n",
       "      <td>ENSG00000100129</td>\n",
       "      <td>ENSG00000104408</td>\n",
       "    </tr>\n",
       "    <tr>\n",
       "      <th>225639</th>\n",
       "      <td>ENSG00000100129</td>\n",
       "      <td>ENSG00000140988</td>\n",
       "    </tr>\n",
       "  </tbody>\n",
       "</table>\n",
       "<p>225640 rows × 2 columns</p>\n",
       "</div>"
      ],
      "text/plain": [
       "                 Gene 1           Gene 2\n",
       "0       ENSG00000004059  ENSG00000143761\n",
       "1       ENSG00000004059  ENSG00000120370\n",
       "2       ENSG00000004059  ENSG00000157869\n",
       "3       ENSG00000004059  ENSG00000134287\n",
       "4       ENSG00000004059  ENSG00000107862\n",
       "...                 ...              ...\n",
       "225635  ENSG00000100129  ENSG00000149100\n",
       "225636  ENSG00000100129  ENSG00000178982\n",
       "225637  ENSG00000100129  ENSG00000114867\n",
       "225638  ENSG00000100129  ENSG00000104408\n",
       "225639  ENSG00000100129  ENSG00000140988\n",
       "\n",
       "[225640 rows x 2 columns]"
      ]
     },
     "execution_count": 5,
     "metadata": {},
     "output_type": "execute_result"
    }
   ],
   "source": [
    "Alist, _ = build.list_STRING(thresh=900)\n",
    "Alist"
   ]
  },
  {
   "cell_type": "code",
   "execution_count": 3,
   "id": "1dd9a398-1a5a-4bee-b931-415ef6992c47",
   "metadata": {},
   "outputs": [
    {
     "name": "stdout",
     "output_type": "stream",
     "text": [
      "Accessing STRING data\n",
      "    Reading data from file...\n"
     ]
    },
    {
     "name": "stderr",
     "output_type": "stream",
     "text": [
      "\n",
      "KeyboardInterrupt\n",
      "\n"
     ]
    }
   ],
   "source": [
    "Alist = build.list_STRING(thresh=900)\n",
    "Alist"
   ]
  },
  {
   "cell_type": "code",
   "execution_count": 2,
   "id": "80c1abf5-c10f-4249-8dcd-b326a8cec525",
   "metadata": {},
   "outputs": [
    {
     "name": "stdout",
     "output_type": "stream",
     "text": [
      "Accessing STRING data\n",
      "    Reading data from file...\n",
      "    File read complete\n"
     ]
    }
   ],
   "source": [
    "thresh=900\n",
    "STRING_PPI=None\n",
    "print(\"Accessing STRING data\")\n",
    "\n",
    "# Set data path\n",
    "data_path = \"/home/jpic/HardwiredGenome-Python/Data/\"\n",
    "\n",
    "# Read and sort raw PPIs\n",
    "if STRING_PPI is None or not isinstance(STRING_PPI, pd.DataFrame):\n",
    "    print(\"    Reading data from file...\")\n",
    "    STRING_downloaded_PPI = f\"{data_path}/Downloaded/STRING/9606.protein.links.v11.5.txt\"\n",
    "    STRING_PPI = pd.read_csv(STRING_downloaded_PPI, delim_whitespace=True)\n",
    "    print(\"    File read complete\")\n",
    "else:\n",
    "    print(\"    STRING data present from previous file read\")\n",
    "\n",
    "# Apply threshold\n",
    "confident_indices = STRING_PPI['combined_score'].astype(int) > thresh\n",
    "P1_confident = STRING_PPI['protein1'][confident_indices].astype(str)\n",
    "P2_confident = STRING_PPI['protein2'][confident_indices].astype(str)"
   ]
  },
  {
   "cell_type": "code",
   "execution_count": 3,
   "id": "4349143b-7619-40b5-bd6e-48c46fafa49d",
   "metadata": {},
   "outputs": [],
   "source": [
    "P1_confident = P1_confident.str[5:]\n",
    "P2_confident = P2_confident.str[5:]"
   ]
  },
  {
   "cell_type": "code",
   "execution_count": 4,
   "id": "c080da8f-f016-454c-a7b7-4ea9d990ec35",
   "metadata": {},
   "outputs": [],
   "source": [
    "P1_gene_id, remove1 = build.stable_ID_map(P1_confident.tolist(), True, uni=False)\n",
    "P2_gene_id, remove2 = build.stable_ID_map(P2_confident.tolist(), True, uni=False)"
   ]
  },
  {
   "cell_type": "code",
   "execution_count": 7,
   "id": "c4c07248-5387-4413-b054-0e10df67d476",
   "metadata": {},
   "outputs": [],
   "source": [
    "remove_rows = np.unique(np.concatenate([remove1, remove2]))\n",
    "idxs = np.ones(len(P1_gene_id), dtype=bool)\n",
    "idxs[remove_rows] = False\n",
    "P1_gene_id = np.array(P1_gene_id)[idxs]\n",
    "P2_gene_id = np.array(P2_gene_id)[idxs]"
   ]
  },
  {
   "cell_type": "code",
   "execution_count": null,
   "id": "72dcbb8d-97e3-4076-856f-e5de333ab980",
   "metadata": {},
   "outputs": [],
   "source": []
  },
  {
   "cell_type": "code",
   "execution_count": 8,
   "id": "81863476-364d-4781-a177-af059ad9b01a",
   "metadata": {},
   "outputs": [
    {
     "name": "stdout",
     "output_type": "stream",
     "text": [
      "    2.12% of the data was removed because it wasn't mapped to a stable gene ID.\n",
      "STRING Data Access Complete: 1.89% of the data was used.\n"
     ]
    }
   ],
   "source": [
    "# Calculate further removal statistics\n",
    "rem = 1 - len(P1_gene_id) / len(P1_confident)\n",
    "print(f\"    {rem * 100:.2f}% of the data was removed because it wasn't mapped to a stable gene ID.\")\n",
    "\n",
    "# Organize data as a DataFrame\n",
    "A_list = pd.DataFrame({\n",
    "    'Gene 1': P1_gene_id,\n",
    "    'Gene 2': P2_gene_id\n",
    "})\n",
    "\n",
    "# Calculate total usage\n",
    "rem = len(P1_gene_id) / len(STRING_PPI)\n",
    "print(f\"STRING Data Access Complete: {rem * 100:.2f}% of the data was used.\")\n"
   ]
  },
  {
   "cell_type": "code",
   "execution_count": 11,
   "id": "7fafb30a-6ac8-46ac-933c-f7fb2f20adc7",
   "metadata": {},
   "outputs": [
    {
     "name": "stdout",
     "output_type": "stream",
     "text": [
      "Accessing STRING data\n",
      "    Reading data from file...\n",
      "    File read complete\n",
      "    98.07% of the data was removed because it is below the confidence threshold.\n"
     ]
    },
    {
     "ename": "TypeError",
     "evalue": "stable_ID_map() missing 1 required positional argument: 'uni'",
     "output_type": "error",
     "traceback": [
      "\u001b[0;31m---------------------------------------------------------------------------\u001b[0m",
      "\u001b[0;31mTypeError\u001b[0m                                 Traceback (most recent call last)",
      "Cell \u001b[0;32mIn[11], line 1\u001b[0m\n\u001b[0;32m----> 1\u001b[0m A \u001b[38;5;241m=\u001b[39m \u001b[43mbuild\u001b[49m\u001b[38;5;241;43m.\u001b[39;49m\u001b[43mlist_STRING\u001b[49m\u001b[43m(\u001b[49m\u001b[43mthresh\u001b[49m\u001b[38;5;241;43m=\u001b[39;49m\u001b[38;5;241;43m900\u001b[39;49m\u001b[43m)\u001b[49m\n",
      "File \u001b[0;32m~/HardwiredGenome-Python/HWG/build.py:323\u001b[0m, in \u001b[0;36mlist_STRING\u001b[0;34m(thresh, STRING_PPI)\u001b[0m\n\u001b[1;32m    320\u001b[0m P2_confident \u001b[38;5;241m=\u001b[39m P2_confident\u001b[38;5;241m.\u001b[39mstr[\u001b[38;5;241m5\u001b[39m:]\n\u001b[1;32m    322\u001b[0m \u001b[38;5;66;03m# Map protein IDs to gene IDs\u001b[39;00m\n\u001b[0;32m--> 323\u001b[0m P1_gene_id, remove1 \u001b[38;5;241m=\u001b[39m \u001b[43mstable_ID_map\u001b[49m\u001b[43m(\u001b[49m\u001b[43mP1_confident\u001b[49m\u001b[38;5;241;43m.\u001b[39;49m\u001b[43mtolist\u001b[49m\u001b[43m(\u001b[49m\u001b[43m)\u001b[49m\u001b[43m,\u001b[49m\u001b[43m \u001b[49m\u001b[38;5;28;43;01mTrue\u001b[39;49;00m\u001b[43m)\u001b[49m\n\u001b[1;32m    324\u001b[0m P2_gene_id, remove2 \u001b[38;5;241m=\u001b[39m stable_ID_map(P2_confident\u001b[38;5;241m.\u001b[39mtolist(), \u001b[38;5;28;01mTrue\u001b[39;00m)\n\u001b[1;32m    326\u001b[0m \u001b[38;5;66;03m# Remove rows that were unmapped\u001b[39;00m\n",
      "\u001b[0;31mTypeError\u001b[0m: stable_ID_map() missing 1 required positional argument: 'uni'"
     ]
    }
   ],
   "source": [
    "A = build.list_STRING(thresh=900)"
   ]
  },
  {
   "cell_type": "code",
   "execution_count": null,
   "id": "761235a3-8a73-45df-b40e-68cc1d82176b",
   "metadata": {},
   "outputs": [],
   "source": [
    "A"
   ]
  },
  {
   "cell_type": "code",
   "execution_count": 6,
   "id": "64207954-0c0d-40d8-8cc4-98233b63914a",
   "metadata": {},
   "outputs": [],
   "source": [
    "data_path = build.load_data_path()\n",
    "\n",
    "# Read table\n",
    "GRCh38_data_path = os.path.join(data_path, \"Downloaded/Ensemble/GRCh38.p13.tsv\")\n",
    "GRCh = pd.read_csv(GRCh38_data_path, sep='\\t')"
   ]
  },
  {
   "cell_type": "code",
   "execution_count": 8,
   "id": "7ea900ba-b9a1-4b32-88c5-920705a185f0",
   "metadata": {},
   "outputs": [
    {
     "data": {
      "text/html": [
       "<div>\n",
       "<style scoped>\n",
       "    .dataframe tbody tr th:only-of-type {\n",
       "        vertical-align: middle;\n",
       "    }\n",
       "\n",
       "    .dataframe tbody tr th {\n",
       "        vertical-align: top;\n",
       "    }\n",
       "\n",
       "    .dataframe thead th {\n",
       "        text-align: right;\n",
       "    }\n",
       "</style>\n",
       "<table border=\"1\" class=\"dataframe\">\n",
       "  <thead>\n",
       "    <tr style=\"text-align: right;\">\n",
       "      <th></th>\n",
       "      <th>0</th>\n",
       "      <th>1</th>\n",
       "      <th>2</th>\n",
       "    </tr>\n",
       "  </thead>\n",
       "  <tbody>\n",
       "    <tr>\n",
       "      <th>0</th>\n",
       "      <td>9606</td>\n",
       "      <td>ENSG00000000003</td>\n",
       "      <td>ENSP00000362111</td>\n",
       "    </tr>\n",
       "    <tr>\n",
       "      <th>1</th>\n",
       "      <td>9606</td>\n",
       "      <td>ENSG00000000005</td>\n",
       "      <td>ENSP00000362122</td>\n",
       "    </tr>\n",
       "    <tr>\n",
       "      <th>2</th>\n",
       "      <td>9606</td>\n",
       "      <td>ENSG00000000419</td>\n",
       "      <td>ENSP00000360644</td>\n",
       "    </tr>\n",
       "    <tr>\n",
       "      <th>3</th>\n",
       "      <td>9606</td>\n",
       "      <td>ENSG00000000457</td>\n",
       "      <td>ENSP00000356744</td>\n",
       "    </tr>\n",
       "    <tr>\n",
       "      <th>4</th>\n",
       "      <td>9606</td>\n",
       "      <td>ENSG00000000460</td>\n",
       "      <td>ENSP00000286031</td>\n",
       "    </tr>\n",
       "    <tr>\n",
       "      <th>...</th>\n",
       "      <td>...</td>\n",
       "      <td>...</td>\n",
       "      <td>...</td>\n",
       "    </tr>\n",
       "    <tr>\n",
       "      <th>23443</th>\n",
       "      <td>9606</td>\n",
       "      <td>ENSG00000269882</td>\n",
       "      <td>ENSP00000469899</td>\n",
       "    </tr>\n",
       "    <tr>\n",
       "      <th>23444</th>\n",
       "      <td>9606</td>\n",
       "      <td>ENSG00000269883</td>\n",
       "      <td>ENSP00000470831</td>\n",
       "    </tr>\n",
       "    <tr>\n",
       "      <th>23445</th>\n",
       "      <td>9606</td>\n",
       "      <td>ENSG00000269884</td>\n",
       "      <td>ENSP00000470150</td>\n",
       "    </tr>\n",
       "    <tr>\n",
       "      <th>23446</th>\n",
       "      <td>9606</td>\n",
       "      <td>ENSG00000269955</td>\n",
       "      <td>ENSP00000347005</td>\n",
       "    </tr>\n",
       "    <tr>\n",
       "      <th>23447</th>\n",
       "      <td>9606</td>\n",
       "      <td>ENSG00000271303</td>\n",
       "      <td>ENSP00000371388</td>\n",
       "    </tr>\n",
       "  </tbody>\n",
       "</table>\n",
       "<p>23448 rows × 3 columns</p>\n",
       "</div>"
      ],
      "text/plain": [
       "          0                1                2\n",
       "0      9606  ENSG00000000003  ENSP00000362111\n",
       "1      9606  ENSG00000000005  ENSP00000362122\n",
       "2      9606  ENSG00000000419  ENSP00000360644\n",
       "3      9606  ENSG00000000457  ENSP00000356744\n",
       "4      9606  ENSG00000000460  ENSP00000286031\n",
       "...     ...              ...              ...\n",
       "23443  9606  ENSG00000269882  ENSP00000469899\n",
       "23444  9606  ENSG00000269883  ENSP00000470831\n",
       "23445  9606  ENSG00000269884  ENSP00000470150\n",
       "23446  9606  ENSG00000269955  ENSP00000347005\n",
       "23447  9606  ENSG00000271303  ENSP00000371388\n",
       "\n",
       "[23448 rows x 3 columns]"
      ]
     },
     "execution_count": 8,
     "metadata": {},
     "output_type": "execute_result"
    }
   ],
   "source": [
    "STRING_ID_map_path = os.path.join(data_path, \"Downloaded/STRING/string_9606_ENSG_ENSP_10_all_T.tsv\")\n",
    "STRING_IDs = pd.read_csv(STRING_ID_map_path, sep='\\t', header=None)\n",
    "STRING_IDs"
   ]
  },
  {
   "cell_type": "code",
   "execution_count": 12,
   "id": "e9ef07fa-966c-4713-9e9a-d5e6a8bd3fe9",
   "metadata": {},
   "outputs": [
    {
     "data": {
      "text/plain": [
       "0        ENSG00000210049\n",
       "1        ENSG00000211459\n",
       "2        ENSG00000210077\n",
       "3        ENSG00000210082\n",
       "4        ENSG00000209082\n",
       "              ...       \n",
       "76116    ENSG00000131711\n",
       "76117    ENSG00000131711\n",
       "76118    ENSG00000131711\n",
       "76119    ENSG00000131711\n",
       "76120    ENSG00000200637\n",
       "Name: Gene stable ID, Length: 76121, dtype: object"
      ]
     },
     "execution_count": 12,
     "metadata": {},
     "output_type": "execute_result"
    }
   ],
   "source": [
    "GRCh['Gene stable ID']"
   ]
  },
  {
   "cell_type": "code",
   "execution_count": 12,
   "id": "5376a589-1850-4d5b-9f9e-bdd146c238fa",
   "metadata": {},
   "outputs": [],
   "source": [
    "P1_confident = P1_confident.str[5:]\n",
    "P2_confident = P2_confident.str[5:]"
   ]
  },
  {
   "cell_type": "code",
   "execution_count": 18,
   "id": "f4683c7b-7d50-4aa7-b5a4-e4bf0afa817d",
   "metadata": {},
   "outputs": [
    {
     "data": {
      "text/plain": [
       "187         ENSP00000440005\n",
       "401         ENSP00000356737\n",
       "565         ENSP00000328551\n",
       "945         ENSP00000256682\n",
       "1025        ENSP00000359000\n",
       "                 ...       \n",
       "11938186    ENSP00000436049\n",
       "11938211    ENSP00000248342\n",
       "11938226    ENSP00000416255\n",
       "11938234    ENSP00000220849\n",
       "11938267    ENSP00000341885\n",
       "Name: protein2, Length: 230524, dtype: object"
      ]
     },
     "execution_count": 18,
     "metadata": {},
     "output_type": "execute_result"
    }
   ],
   "source": [
    "P2_confident"
   ]
  },
  {
   "cell_type": "code",
   "execution_count": 14,
   "id": "ae44d0a4-448f-433c-b6d4-4baa23198bd6",
   "metadata": {},
   "outputs": [
    {
     "data": {
      "text/plain": [
       "187         ENSP00000000233\n",
       "401         ENSP00000000233\n",
       "565         ENSP00000000233\n",
       "945         ENSP00000000233\n",
       "1025        ENSP00000000233\n",
       "                 ...       \n",
       "11938186    ENSP00000485663\n",
       "11938211    ENSP00000485663\n",
       "11938226    ENSP00000485663\n",
       "11938234    ENSP00000485663\n",
       "11938267    ENSP00000485663\n",
       "Name: protein1, Length: 230524, dtype: object"
      ]
     },
     "execution_count": 14,
     "metadata": {},
     "output_type": "execute_result"
    }
   ],
   "source": [
    "P1_confident"
   ]
  },
  {
   "cell_type": "code",
   "execution_count": 9,
   "id": "fa58e864-10ea-48ba-a788-49a55959d467",
   "metadata": {},
   "outputs": [],
   "source": [
    "import pandas as pd"
   ]
  },
  {
   "cell_type": "code",
   "execution_count": 6,
   "id": "471caa77-c23a-4fb3-8d4c-8269a5313078",
   "metadata": {},
   "outputs": [],
   "source": [
    "HuRI_PPI1 = pd.read_csv(\"/home/jpic/HardwiredGenome-Python/Data/Downloaded/HuRI/HI-union.tsv\", sep='\\t', header=None)"
   ]
  },
  {
   "cell_type": "code",
   "execution_count": 9,
   "id": "02cabbeb-550b-4ba2-acb3-36953d39cc18",
   "metadata": {},
   "outputs": [
    {
     "data": {
      "text/plain": [
       "array(['ENSG00000000005', 'ENSG00000000005', 'ENSG00000000005', ...,\n",
       "       'ENSG00000276076', 'ENSG00000276644', 'ENSG00000280987'],\n",
       "      dtype=object)"
      ]
     },
     "execution_count": 9,
     "metadata": {},
     "output_type": "execute_result"
    }
   ],
   "source": [
    "HuRI_PPI1[0].values"
   ]
  }
 ],
 "metadata": {
  "kernelspec": {
   "display_name": "Python 3 (ipykernel)",
   "language": "python",
   "name": "python3"
  },
  "language_info": {
   "codemirror_mode": {
    "name": "ipython",
    "version": 3
   },
   "file_extension": ".py",
   "mimetype": "text/x-python",
   "name": "python",
   "nbconvert_exporter": "python",
   "pygments_lexer": "ipython3",
   "version": "3.11.7"
  }
 },
 "nbformat": 4,
 "nbformat_minor": 5
}
